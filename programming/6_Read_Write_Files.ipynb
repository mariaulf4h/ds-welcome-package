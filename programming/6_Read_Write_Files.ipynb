{
 "cells": [
  {
   "cell_type": "markdown",
   "metadata": {},
   "source": [
    "To open this notebook in Google Colab and start coding, click on the Colab icon below.\n",
    "<table style=\"border:2px solid orange\" align=\"left\">\n",
    "  <td style=\"border:2px solid orange \">\n",
    "    <a target=\"_blank\" href=\"https://colab.research.google.com/github/neuefische/ds-welcome-package/blob/main/programming/6_Read_Write_Files.ipynb\"><img src=\"https://www.tensorflow.org/images/colab_logo_32px.png\" />Run in Google Colab</a>\n",
    "  </td>\n",
    "</table>"
   ]
  },
  {
   "cell_type": "markdown",
   "metadata": {},
   "source": [
    "---\n",
    "# Reading and writing from files\n",
    "\n",
    "In this lesson we will learn how to read from webpages and regular files.\n",
    "Oftentimes we need to process information that is stored in documents. How can we have access to that?"
   ]
  },
  {
   "cell_type": "markdown",
   "metadata": {},
   "source": [
    "It's quite easy! We simply indicate where we want the information from and the we store that information in some variables so we can process it inside our program.\n",
    "\n",
    "This works on the local machine, but might not work on colab. "
   ]
  },
  {
   "cell_type": "markdown",
   "metadata": {},
   "source": [
    "### Writing to a file\n",
    "\n",
    "```\n",
    "file = open(\"myfile.txt\",\"w\")\n",
    "file.write(\"one line of text\")\n",
    "file.write(\"another line of text\")\n",
    "file.close()\n",
    "```\n",
    "\n",
    "### Reading from a file\n",
    "```\n",
    "file = open(\"myfile.txt\",\"r\")\n",
    "lines = file.readlines()\n",
    "```\n",
    "and now in lines we have a list of all the lines in the file and we can iterate through lists:\n",
    "\n",
    "```\n",
    "for line in lines:\n",
    "    print(line)\n",
    " ```"
   ]
  },
  {
   "cell_type": "markdown",
   "metadata": {},
   "source": [
    "As we are in the cloud with colab, let's read from a website that is online. For this we need the address, URL of the page, and we can use a library called BeuatifulSoup to read HTML (most online pages are.. HTML)"
   ]
  },
  {
   "cell_type": "code",
   "execution_count": 9,
   "metadata": {},
   "outputs": [
    {
     "name": "stdout",
     "output_type": "stream",
     "text": [
      "Collecting beautifulsoup4\n",
      "  Downloading beautifulsoup4-4.9.3-py3-none-any.whl (115 kB)\n",
      "\u001b[K     |████████████████████████████████| 115 kB 2.9 MB/s eta 0:00:01\n",
      "\u001b[?25hCollecting soupsieve>1.2; python_version >= \"3.0\"\n",
      "  Downloading soupsieve-2.1-py3-none-any.whl (32 kB)\n",
      "Installing collected packages: soupsieve, beautifulsoup4\n",
      "Successfully installed beautifulsoup4-4.9.3 soupsieve-2.1\n",
      "\u001b[33mWARNING: You are using pip version 20.1.1; however, version 21.0 is available.\n",
      "You should consider upgrading via the '/Library/Frameworks/Python.framework/Versions/3.7/bin/python3.7 -m pip install --upgrade pip' command.\u001b[0m\n"
     ]
    }
   ],
   "source": [
    "!pip3 install beautifulsoup4"
   ]
  },
  {
   "cell_type": "code",
   "execution_count": 106,
   "metadata": {},
   "outputs": [
    {
     "data": {
      "text/plain": [
       "'<HTML>\\n<HEAD>\\n<Title>Alice\\'s Adventures in Wonderland -- Chapter I</Title>\\n</HEAD>\\n<BODY>\\n<H2>CHAPTER I</H2>\\n                      <H2>Down the Rabbit-Hole</H2>\\n\\n  Alice was beginning to get very tired of sitting by her sister\\non the bank, and of having nothing to do:  once or twice she had\\npeeped into the book her sister was reading, but it had no\\npictures or conversations in it, `and what is the use of a book,\\'\\nthought Alice `without pictures or conversation?\\'\\n<P>\\n  So she was considering in her own mind (as well as she could,\\nfor the hot day made her feel very sleepy and stupid), whether\\nthe pleasure of making a daisy-chain would be worth the trouble\\nof getting up and picking the daisies, when suddenly a White\\nRabbit with pink eyes ran close by her.\\n<P>\\n  There was nothing so <I>very</I> remarkable in that; nor did Alice\\nthink it so <I>very</I> much out of the way to hear the Rabbit say to\\nitself, `Oh dear!  Oh dear!  I shall be late!\\'  (when she thought\\nit over afterwards, it occurred to her that she ought to have\\nwondered at this, but at the time it all seemed quite natural);\\nbut when the Rabbit actually <I>took a watch out of its waistcoat</I>-<I>pocket</I>, and looked at it, and then hurried on, Alice started to\\nher feet, for it flashed across her mind that she had never\\nbefore seen a rabbit with either a waistcoat-pocket, or a watch to\\ntake out of it, and burning with curiosity, she ran across the\\nfield after it, and fortunately was just in time to see it pop\\ndown a large rabbit-hole under the hedge.\\n<P>\\n<A HREF=\"alice02a.gif\" target=\"picture\"><IMG SRC=\"alice02th.gif\"></A>\\n<B>White Rabbit checking watch</B>\\n<P>\\n  In another moment down went Alice after it, never once\\nconsidering how in the world she was to get out again.\\n<P>\\n  The rabbit-hole went straight on like a tunnel for some way,\\nand then dipped suddenly down, so suddenly that Alice had not a\\nmoment to think about stopping herself before she found herself\\nfalling down a very deep well.\\n<P>\\n  Either the well was very deep, or she fell very slowly, for she\\nhad plenty of time as she went down to look about her and to\\nwonder what was going to happen next.  First, she tried to look\\ndown and make out what she was coming to, but it was too dark to\\nsee anything; then she looked at the sides of the well, and\\nnoticed that they were filled with cupboards and book-shelves;\\nhere and there she saw maps and pictures hung upon pegs.  She\\ntook down a jar from one of the shelves as she passed; it was\\nlabelled `ORANGE MARMALADE\\', but to her great disappointment it\\nwas empty:  she did not like to drop the jar for fear of killing\\nsomebody, so managed to put it into one of the cupboards as she\\nfell past it.\\n<P>\\n  `Well!\\' thought Alice to herself, `after such a fall as this, I\\nshall think nothing of tumbling down stairs!  How brave they\\'ll\\nall think me at home!  Why, I wouldn\\'t say anything about it,\\neven if I fell off the top of the house!\\' (Which was very likely\\ntrue.)\\n<P>\\n  Down, down, down.  Would the fall <I>never</I> come to an end!  `I\\nwonder how many miles I\\'ve fallen by this time?\\' she said aloud.\\n`I must be getting somewhere near the centre of the earth.  Let\\nme see:  that would be four thousand miles down, I think--\\' (for,\\nyou see, Alice had learnt several things of this sort in her\\nlessons in the schoolroom, and though this was not a <I>very</I> good\\nopportunity for showing off her knowledge, as there was no one to\\nlisten to her, still it was good practice to say it over) `--yes,\\nthat\\'s about the right distance--but then I wonder what Latitude\\nor Longitude I\\'ve got to?\\'  (Alice had no idea what Latitude was,\\nor Longitude either, but thought they were nice grand words to\\nsay.)\\n<P>\\n  Presently she began again.  `I wonder if I shall fall right\\n<I>through</I> the earth!  How funny it\\'ll seem to come out among the\\npeople that walk with their heads downward!  The Antipathies, I\\nthink--\\' (she was rather glad there <I>was</I> no one listening, this\\ntime, as it didn\\'t sound at all the right word) `--but I shall\\nhave to ask them what the name of the country is, you know.\\nPlease, Ma\\'am, is this New Zealand or Australia?\\' (and she tried\\nto curtsey as she spoke--fancy <I>curtseying</I> as you\\'re falling\\nthrough the air!  Do you think you could manage it?)  `And what\\nan ignorant little girl she\\'ll think me for asking!  No, it\\'ll\\nnever do to ask:  perhaps I shall see it written up somewhere.\\'\\n<P>\\n  Down, down, down.  There was nothing else to do, so Alice soon\\nbegan talking again.  `Dinah\\'ll miss me very much to-night, I\\nshould think!\\'  (Dinah was the cat.)  `I hope they\\'ll remember\\nher saucer of milk at tea-time.  Dinah my dear!  I wish you were\\ndown here with me!  There are no mice in the air, I\\'m afraid, but\\nyou might catch a bat, and that\\'s very like a mouse, you know.\\nBut do cats eat bats, I wonder?\\'  And here Alice began to get\\nrather sleepy, and went on saying to herself, in a dreamy sort of\\nway, `Do cats eat bats?  Do cats eat bats?\\' and sometimes, `Do\\nbats eat cats?\\' for, you see, as she couldn\\'t answer either\\nquestion, it didn\\'t much matter which way she put it.  She felt\\nthat she was dozing off, and had just begun to dream that she\\nwas walking hand in hand with Dinah, and saying to her very\\nearnestly, `Now, Dinah, tell me the truth:  did you ever eat a\\nbat?\\' when suddenly, thump! thump! down she came upon a heap of\\nsticks and dry leaves, and the fall was over.\\n<P>\\n  Alice was not a bit hurt, and she jumped up on to her feet in a\\nmoment:  she looked up, but it was all dark overhead; before her\\nwas another long passage, and the White Rabbit was still in\\nsight, hurrying down it.  There was not a moment to be lost:\\naway went Alice like the wind, and was just in time to hear it\\nsay, as it turned a corner, `Oh my ears and whiskers, how late\\nit\\'s getting!\\'  She was close behind it when she turned the\\ncorner, but the Rabbit was no longer to be seen:  she found\\nherself in a long, low hall, which was lit up by a row of lamps\\nhanging from the roof.\\n<P>\\n  There were doors all round the hall, but they were all locked;\\nand when Alice had been all the way down one side and up the\\nother, trying every door, she walked sadly down the middle,\\nwondering how she was ever to get out again.\\n<P>\\n  Suddenly she came upon a little three-legged table, all made of\\nsolid glass; there was nothing on it except a tiny golden key,\\nand Alice\\'s first thought was that it might belong to one of the\\ndoors of the hall; but, alas! either the locks were too large, or\\nthe key was too small, but at any rate it would not open any of\\nthem.  However, on the second time round, she came upon a low\\ncurtain she had not noticed before, and behind it was a little\\ndoor about fifteen inches high:  she tried the little golden key\\nin the lock, and to her great delight it fitted!\\n<P>\\n<A HREF=\"alice03a.gif\" target=\"picture\"><IMG SRC=\"alice03th.gif\"></A>\\n<B>Alice finding tiny door behind curtain</B>\\n<P>\\n  Alice opened the door and found that it led into a small\\npassage, not much larger than a rat-hole:  she knelt down and\\nlooked along the passage into the loveliest garden you ever saw.\\nHow she longed to get out of that dark hall, and wander about\\namong those beds of bright flowers and those cool fountains, but\\nshe could not even get her head though the doorway; `and even if\\nmy head would go through,\\' thought poor Alice, `it would be of\\nvery little use without my shoulders.  Oh, how I wish\\nI could shut up like a telescope!  I think I could, if I only\\nknow how to begin.\\'  For, you see, so many out-of-the-way things\\nhad happened lately, that Alice had begun to think that very few\\nthings indeed were really impossible.\\n<P>\\n  There seemed to be no use in waiting by the little door, so she\\nwent back to the table, half hoping she might find another key on\\nit, or at any rate a book of rules for shutting people up like\\ntelescopes:  this time she found a little bottle on it, (`which\\ncertainly was not here before,\\' said Alice,) and round the neck\\nof the bottle was a paper label, with the words `DRINK ME\\'\\nbeautifully printed on it in large letters.\\n<P>\\n<A HREF=\"alice04a.gif\" target=\"picture\"><IMG SRC=\"alice04th.gif\"></A>\\n<B>Alice taking \"Drink Me\" bottle</B>\\n<P>\\n  It was all very well to say `Drink me,\\' but the wise little\\nAlice was not going to do <I>that</I> in a hurry.  `No, I\\'ll look\\nfirst,\\' she said, `and see whether it\\'s marked \"poison\" or not\\';\\nfor she had read several nice little histories about children who\\nhad got burnt, and eaten up by wild beasts and other unpleasant\\nthings, all because they <I>would</I> not remember the simple rules\\ntheir friends had taught them:  such as, that a red-hot poker\\nwill burn you if you hold it too long; and that if you cut your\\nfinger <I>very</I> deeply with a knife, it usually bleeds; and she had\\nnever forgotten that, if you drink much from a bottle marked\\n`poison,\\' it is almost certain to disagree with you, sooner or\\nlater.\\n<P>\\n  However, this bottle was <I>not</I> marked `poison,\\' so Alice ventured\\nto taste it, and finding it very nice, (it had, in fact, a sort\\nof mixed flavour of cherry-tart, custard, pine-apple, roast\\nturkey, toffee, and hot buttered toast,) she very soon finished\\nit off.\\n<PRE>\\n     *       *       *       *       *       *       *\\n\\n         *       *       *       *       *       *\\n\\n     *       *       *       *       *       *       *\\n</PRE>\\n  `What a curious feeling!\\' said Alice; `I must be shutting up\\nlike a telescope.\\'\\n<P>\\n  And so it was indeed:  she was now only ten inches high, and\\nher face brightened up at the thought that she was now the right\\nsize for going through the little door into that lovely garden.\\nFirst, however, she waited for a few minutes to see if she was\\ngoing to shrink any further:  she felt a little nervous about\\nthis; `for it might end, you know,\\' said Alice to herself, `in my\\ngoing out altogether, like a candle.  I wonder what I should be\\nlike then?\\'  And she tried to fancy what the flame of a candle is\\nlike after the candle is blown out, for she could not remember\\never having seen such a thing.\\n<P>\\n  After a while, finding that nothing more happened, she decided\\non going into the garden at once; but, alas for poor Alice!\\nwhen she got to the door, she found she had forgotten the\\nlittle golden key, and when she went back to the table for it,\\nshe found she could not possibly reach it:  she could see it\\nquite plainly through the glass, and she tried her best to climb\\nup one of the legs of the table, but it was too slippery;\\nand when she had tired herself out with trying,\\nthe poor little thing sat down and cried.\\n<P>\\n  `Come, there\\'s no use in crying like that!\\' said Alice to\\nherself, rather sharply; `I advise you to leave off this minute!\\'\\nShe generally gave herself very good advice, (though she very\\nseldom followed it), and sometimes she scolded herself so\\nseverely as to bring tears into her eyes; and once she remembered\\ntrying to box her own ears for having cheated herself in a game\\nof croquet she was playing against herself, for this curious\\nchild was very fond of pretending to be two people.  `But it\\'s no\\nuse now,\\' thought poor Alice, `to pretend to be two people!  Why,\\nthere\\'s hardly enough of me left to make <I>one</I> respectable\\nperson!\\'\\n<P>\\n  Soon her eye fell on a little glass box that was lying under\\nthe table:  she opened it, and found in it a very small cake, on\\nwhich the words `EAT ME\\' were beautifully marked in currants.\\n`Well, I\\'ll eat it,\\' said Alice, `and if it makes me grow larger,\\nI can reach the key; and if it makes me grow smaller, I can creep\\nunder the door; so either way I\\'ll get into the garden, and I\\ndon\\'t care which happens!\\'\\n<P>\\n  She ate a little bit, and said anxiously to herself, `Which\\nway?  Which way?\\', holding her hand on the top of her head to\\nfeel which way it was growing, and she was quite surprised to\\nfind that she remained the same size:  to be sure, this generally\\nhappens when one eats cake, but Alice had got so much into the\\nway of expecting nothing but out-of-the-way things to happen,\\nthat it seemed quite dull and stupid for life to go on in the\\ncommon way.\\n<P>\\n  So she set to work, and very soon finished off the cake.\\n<PRE>\\n     *       *       *       *       *       *       *\\n\\n         *       *       *       *       *       *\\n\\n     *       *       *       *       *       *       *\\n</PRE>\\n\\n<P><A NAME=\"NEXT\" HREF=\"alice-II.html\">Next chapter:  The Pool of Tears</A>\\n</BODY>\\n</HTML>\\n'"
      ]
     },
     "execution_count": 106,
     "metadata": {},
     "output_type": "execute_result"
    }
   ],
   "source": [
    "from bs4 import BeautifulSoup\n",
    "import requests\n",
    "URL = \"https://www.cs.cmu.edu/~rgs/alice-I.html\" \n",
    "html = requests.get(URL, {}).text\n",
    "html"
   ]
  },
  {
   "cell_type": "code",
   "execution_count": 107,
   "metadata": {},
   "outputs": [
    {
     "data": {
      "text/plain": [
       "<html>\n",
       "<head>\n",
       "<title>Alice's Adventures in Wonderland -- Chapter I</title>\n",
       "</head>\n",
       "<body>\n",
       "<h2>CHAPTER I</h2>\n",
       "<h2>Down the Rabbit-Hole</h2>\n",
       "\n",
       "  Alice was beginning to get very tired of sitting by her sister\n",
       "on the bank, and of having nothing to do:  once or twice she had\n",
       "peeped into the book her sister was reading, but it had no\n",
       "pictures or conversations in it, `and what is the use of a book,'\n",
       "thought Alice `without pictures or conversation?'\n",
       "<p>\n",
       "  So she was considering in her own mind (as well as she could,\n",
       "for the hot day made her feel very sleepy and stupid), whether\n",
       "the pleasure of making a daisy-chain would be worth the trouble\n",
       "of getting up and picking the daisies, when suddenly a White\n",
       "Rabbit with pink eyes ran close by her.\n",
       "<p>\n",
       "  There was nothing so <i>very</i> remarkable in that; nor did Alice\n",
       "think it so <i>very</i> much out of the way to hear the Rabbit say to\n",
       "itself, `Oh dear!  Oh dear!  I shall be late!'  (when she thought\n",
       "it over afterwards, it occurred to her that she ought to have\n",
       "wondered at this, but at the time it all seemed quite natural);\n",
       "but when the Rabbit actually <i>took a watch out of its waistcoat</i>-<i>pocket</i>, and looked at it, and then hurried on, Alice started to\n",
       "her feet, for it flashed across her mind that she had never\n",
       "before seen a rabbit with either a waistcoat-pocket, or a watch to\n",
       "take out of it, and burning with curiosity, she ran across the\n",
       "field after it, and fortunately was just in time to see it pop\n",
       "down a large rabbit-hole under the hedge.\n",
       "<p>\n",
       "<a href=\"alice02a.gif\" target=\"picture\"><img src=\"alice02th.gif\"/></a>\n",
       "<b>White Rabbit checking watch</b>\n",
       "<p>\n",
       "  In another moment down went Alice after it, never once\n",
       "considering how in the world she was to get out again.\n",
       "<p>\n",
       "  The rabbit-hole went straight on like a tunnel for some way,\n",
       "and then dipped suddenly down, so suddenly that Alice had not a\n",
       "moment to think about stopping herself before she found herself\n",
       "falling down a very deep well.\n",
       "<p>\n",
       "  Either the well was very deep, or she fell very slowly, for she\n",
       "had plenty of time as she went down to look about her and to\n",
       "wonder what was going to happen next.  First, she tried to look\n",
       "down and make out what she was coming to, but it was too dark to\n",
       "see anything; then she looked at the sides of the well, and\n",
       "noticed that they were filled with cupboards and book-shelves;\n",
       "here and there she saw maps and pictures hung upon pegs.  She\n",
       "took down a jar from one of the shelves as she passed; it was\n",
       "labelled `ORANGE MARMALADE', but to her great disappointment it\n",
       "was empty:  she did not like to drop the jar for fear of killing\n",
       "somebody, so managed to put it into one of the cupboards as she\n",
       "fell past it.\n",
       "<p>\n",
       "  `Well!' thought Alice to herself, `after such a fall as this, I\n",
       "shall think nothing of tumbling down stairs!  How brave they'll\n",
       "all think me at home!  Why, I wouldn't say anything about it,\n",
       "even if I fell off the top of the house!' (Which was very likely\n",
       "true.)\n",
       "<p>\n",
       "  Down, down, down.  Would the fall <i>never</i> come to an end!  `I\n",
       "wonder how many miles I've fallen by this time?' she said aloud.\n",
       "`I must be getting somewhere near the centre of the earth.  Let\n",
       "me see:  that would be four thousand miles down, I think--' (for,\n",
       "you see, Alice had learnt several things of this sort in her\n",
       "lessons in the schoolroom, and though this was not a <i>very</i> good\n",
       "opportunity for showing off her knowledge, as there was no one to\n",
       "listen to her, still it was good practice to say it over) `--yes,\n",
       "that's about the right distance--but then I wonder what Latitude\n",
       "or Longitude I've got to?'  (Alice had no idea what Latitude was,\n",
       "or Longitude either, but thought they were nice grand words to\n",
       "say.)\n",
       "<p>\n",
       "  Presently she began again.  `I wonder if I shall fall right\n",
       "<i>through</i> the earth!  How funny it'll seem to come out among the\n",
       "people that walk with their heads downward!  The Antipathies, I\n",
       "think--' (she was rather glad there <i>was</i> no one listening, this\n",
       "time, as it didn't sound at all the right word) `--but I shall\n",
       "have to ask them what the name of the country is, you know.\n",
       "Please, Ma'am, is this New Zealand or Australia?' (and she tried\n",
       "to curtsey as she spoke--fancy <i>curtseying</i> as you're falling\n",
       "through the air!  Do you think you could manage it?)  `And what\n",
       "an ignorant little girl she'll think me for asking!  No, it'll\n",
       "never do to ask:  perhaps I shall see it written up somewhere.'\n",
       "<p>\n",
       "  Down, down, down.  There was nothing else to do, so Alice soon\n",
       "began talking again.  `Dinah'll miss me very much to-night, I\n",
       "should think!'  (Dinah was the cat.)  `I hope they'll remember\n",
       "her saucer of milk at tea-time.  Dinah my dear!  I wish you were\n",
       "down here with me!  There are no mice in the air, I'm afraid, but\n",
       "you might catch a bat, and that's very like a mouse, you know.\n",
       "But do cats eat bats, I wonder?'  And here Alice began to get\n",
       "rather sleepy, and went on saying to herself, in a dreamy sort of\n",
       "way, `Do cats eat bats?  Do cats eat bats?' and sometimes, `Do\n",
       "bats eat cats?' for, you see, as she couldn't answer either\n",
       "question, it didn't much matter which way she put it.  She felt\n",
       "that she was dozing off, and had just begun to dream that she\n",
       "was walking hand in hand with Dinah, and saying to her very\n",
       "earnestly, `Now, Dinah, tell me the truth:  did you ever eat a\n",
       "bat?' when suddenly, thump! thump! down she came upon a heap of\n",
       "sticks and dry leaves, and the fall was over.\n",
       "<p>\n",
       "  Alice was not a bit hurt, and she jumped up on to her feet in a\n",
       "moment:  she looked up, but it was all dark overhead; before her\n",
       "was another long passage, and the White Rabbit was still in\n",
       "sight, hurrying down it.  There was not a moment to be lost:\n",
       "away went Alice like the wind, and was just in time to hear it\n",
       "say, as it turned a corner, `Oh my ears and whiskers, how late\n",
       "it's getting!'  She was close behind it when she turned the\n",
       "corner, but the Rabbit was no longer to be seen:  she found\n",
       "herself in a long, low hall, which was lit up by a row of lamps\n",
       "hanging from the roof.\n",
       "<p>\n",
       "  There were doors all round the hall, but they were all locked;\n",
       "and when Alice had been all the way down one side and up the\n",
       "other, trying every door, she walked sadly down the middle,\n",
       "wondering how she was ever to get out again.\n",
       "<p>\n",
       "  Suddenly she came upon a little three-legged table, all made of\n",
       "solid glass; there was nothing on it except a tiny golden key,\n",
       "and Alice's first thought was that it might belong to one of the\n",
       "doors of the hall; but, alas! either the locks were too large, or\n",
       "the key was too small, but at any rate it would not open any of\n",
       "them.  However, on the second time round, she came upon a low\n",
       "curtain she had not noticed before, and behind it was a little\n",
       "door about fifteen inches high:  she tried the little golden key\n",
       "in the lock, and to her great delight it fitted!\n",
       "<p>\n",
       "<a href=\"alice03a.gif\" target=\"picture\"><img src=\"alice03th.gif\"/></a>\n",
       "<b>Alice finding tiny door behind curtain</b>\n",
       "<p>\n",
       "  Alice opened the door and found that it led into a small\n",
       "passage, not much larger than a rat-hole:  she knelt down and\n",
       "looked along the passage into the loveliest garden you ever saw.\n",
       "How she longed to get out of that dark hall, and wander about\n",
       "among those beds of bright flowers and those cool fountains, but\n",
       "she could not even get her head though the doorway; `and even if\n",
       "my head would go through,' thought poor Alice, `it would be of\n",
       "very little use without my shoulders.  Oh, how I wish\n",
       "I could shut up like a telescope!  I think I could, if I only\n",
       "know how to begin.'  For, you see, so many out-of-the-way things\n",
       "had happened lately, that Alice had begun to think that very few\n",
       "things indeed were really impossible.\n",
       "<p>\n",
       "  There seemed to be no use in waiting by the little door, so she\n",
       "went back to the table, half hoping she might find another key on\n",
       "it, or at any rate a book of rules for shutting people up like\n",
       "telescopes:  this time she found a little bottle on it, (`which\n",
       "certainly was not here before,' said Alice,) and round the neck\n",
       "of the bottle was a paper label, with the words `DRINK ME'\n",
       "beautifully printed on it in large letters.\n",
       "<p>\n",
       "<a href=\"alice04a.gif\" target=\"picture\"><img src=\"alice04th.gif\"/></a>\n",
       "<b>Alice taking \"Drink Me\" bottle</b>\n",
       "<p>\n",
       "  It was all very well to say `Drink me,' but the wise little\n",
       "Alice was not going to do <i>that</i> in a hurry.  `No, I'll look\n",
       "first,' she said, `and see whether it's marked \"poison\" or not';\n",
       "for she had read several nice little histories about children who\n",
       "had got burnt, and eaten up by wild beasts and other unpleasant\n",
       "things, all because they <i>would</i> not remember the simple rules\n",
       "their friends had taught them:  such as, that a red-hot poker\n",
       "will burn you if you hold it too long; and that if you cut your\n",
       "finger <i>very</i> deeply with a knife, it usually bleeds; and she had\n",
       "never forgotten that, if you drink much from a bottle marked\n",
       "`poison,' it is almost certain to disagree with you, sooner or\n",
       "later.\n",
       "<p>\n",
       "  However, this bottle was <i>not</i> marked `poison,' so Alice ventured\n",
       "to taste it, and finding it very nice, (it had, in fact, a sort\n",
       "of mixed flavour of cherry-tart, custard, pine-apple, roast\n",
       "turkey, toffee, and hot buttered toast,) she very soon finished\n",
       "it off.\n",
       "<pre>\n",
       "     *       *       *       *       *       *       *\n",
       "\n",
       "         *       *       *       *       *       *\n",
       "\n",
       "     *       *       *       *       *       *       *\n",
       "</pre>\n",
       "  `What a curious feeling!' said Alice; `I must be shutting up\n",
       "like a telescope.'\n",
       "<p>\n",
       "  And so it was indeed:  she was now only ten inches high, and\n",
       "her face brightened up at the thought that she was now the right\n",
       "size for going through the little door into that lovely garden.\n",
       "First, however, she waited for a few minutes to see if she was\n",
       "going to shrink any further:  she felt a little nervous about\n",
       "this; `for it might end, you know,' said Alice to herself, `in my\n",
       "going out altogether, like a candle.  I wonder what I should be\n",
       "like then?'  And she tried to fancy what the flame of a candle is\n",
       "like after the candle is blown out, for she could not remember\n",
       "ever having seen such a thing.\n",
       "<p>\n",
       "  After a while, finding that nothing more happened, she decided\n",
       "on going into the garden at once; but, alas for poor Alice!\n",
       "when she got to the door, she found she had forgotten the\n",
       "little golden key, and when she went back to the table for it,\n",
       "she found she could not possibly reach it:  she could see it\n",
       "quite plainly through the glass, and she tried her best to climb\n",
       "up one of the legs of the table, but it was too slippery;\n",
       "and when she had tired herself out with trying,\n",
       "the poor little thing sat down and cried.\n",
       "<p>\n",
       "  `Come, there's no use in crying like that!' said Alice to\n",
       "herself, rather sharply; `I advise you to leave off this minute!'\n",
       "She generally gave herself very good advice, (though she very\n",
       "seldom followed it), and sometimes she scolded herself so\n",
       "severely as to bring tears into her eyes; and once she remembered\n",
       "trying to box her own ears for having cheated herself in a game\n",
       "of croquet she was playing against herself, for this curious\n",
       "child was very fond of pretending to be two people.  `But it's no\n",
       "use now,' thought poor Alice, `to pretend to be two people!  Why,\n",
       "there's hardly enough of me left to make <i>one</i> respectable\n",
       "person!'\n",
       "<p>\n",
       "  Soon her eye fell on a little glass box that was lying under\n",
       "the table:  she opened it, and found in it a very small cake, on\n",
       "which the words `EAT ME' were beautifully marked in currants.\n",
       "`Well, I'll eat it,' said Alice, `and if it makes me grow larger,\n",
       "I can reach the key; and if it makes me grow smaller, I can creep\n",
       "under the door; so either way I'll get into the garden, and I\n",
       "don't care which happens!'\n",
       "<p>\n",
       "  She ate a little bit, and said anxiously to herself, `Which\n",
       "way?  Which way?', holding her hand on the top of her head to\n",
       "feel which way it was growing, and she was quite surprised to\n",
       "find that she remained the same size:  to be sure, this generally\n",
       "happens when one eats cake, but Alice had got so much into the\n",
       "way of expecting nothing but out-of-the-way things to happen,\n",
       "that it seemed quite dull and stupid for life to go on in the\n",
       "common way.\n",
       "<p>\n",
       "  So she set to work, and very soon finished off the cake.\n",
       "<pre>\n",
       "     *       *       *       *       *       *       *\n",
       "\n",
       "         *       *       *       *       *       *\n",
       "\n",
       "     *       *       *       *       *       *       *\n",
       "</pre>\n",
       "<p><a href=\"alice-II.html\" name=\"NEXT\">Next chapter:  The Pool of Tears</a>\n",
       "</p></p></p></p></p></p></p></p></p></p></p></p></p></p></p></p></p></p></p></p></p></p></p></p></p></p></body>\n",
       "</html>"
      ]
     },
     "execution_count": 107,
     "metadata": {},
     "output_type": "execute_result"
    }
   ],
   "source": [
    "#getting the text from html\n",
    "soup = BeautifulSoup(html)\n",
    "soup"
   ]
  },
  {
   "cell_type": "code",
   "execution_count": 108,
   "metadata": {},
   "outputs": [
    {
     "data": {
      "text/plain": [
       "'\\n\\nAlice\\'s Adventures in Wonderland -- Chapter I\\n\\n\\nCHAPTER I\\nDown the Rabbit-Hole\\n\\n  Alice was beginning to get very tired of sitting by her sister\\non the bank, and of having nothing to do:  once or twice she had\\npeeped into the book her sister was reading, but it had no\\npictures or conversations in it, `and what is the use of a book,\\'\\nthought Alice `without pictures or conversation?\\'\\n\\n  So she was considering in her own mind (as well as she could,\\nfor the hot day made her feel very sleepy and stupid), whether\\nthe pleasure of making a daisy-chain would be worth the trouble\\nof getting up and picking the daisies, when suddenly a White\\nRabbit with pink eyes ran close by her.\\n\\n  There was nothing so very remarkable in that; nor did Alice\\nthink it so very much out of the way to hear the Rabbit say to\\nitself, `Oh dear!  Oh dear!  I shall be late!\\'  (when she thought\\nit over afterwards, it occurred to her that she ought to have\\nwondered at this, but at the time it all seemed quite natural);\\nbut when the Rabbit actually took a watch out of its waistcoat-pocket, and looked at it, and then hurried on, Alice started to\\nher feet, for it flashed across her mind that she had never\\nbefore seen a rabbit with either a waistcoat-pocket, or a watch to\\ntake out of it, and burning with curiosity, she ran across the\\nfield after it, and fortunately was just in time to see it pop\\ndown a large rabbit-hole under the hedge.\\n\\n\\nWhite Rabbit checking watch\\n\\n  In another moment down went Alice after it, never once\\nconsidering how in the world she was to get out again.\\n\\n  The rabbit-hole went straight on like a tunnel for some way,\\nand then dipped suddenly down, so suddenly that Alice had not a\\nmoment to think about stopping herself before she found herself\\nfalling down a very deep well.\\n\\n  Either the well was very deep, or she fell very slowly, for she\\nhad plenty of time as she went down to look about her and to\\nwonder what was going to happen next.  First, she tried to look\\ndown and make out what she was coming to, but it was too dark to\\nsee anything; then she looked at the sides of the well, and\\nnoticed that they were filled with cupboards and book-shelves;\\nhere and there she saw maps and pictures hung upon pegs.  She\\ntook down a jar from one of the shelves as she passed; it was\\nlabelled `ORANGE MARMALADE\\', but to her great disappointment it\\nwas empty:  she did not like to drop the jar for fear of killing\\nsomebody, so managed to put it into one of the cupboards as she\\nfell past it.\\n\\n  `Well!\\' thought Alice to herself, `after such a fall as this, I\\nshall think nothing of tumbling down stairs!  How brave they\\'ll\\nall think me at home!  Why, I wouldn\\'t say anything about it,\\neven if I fell off the top of the house!\\' (Which was very likely\\ntrue.)\\n\\n  Down, down, down.  Would the fall never come to an end!  `I\\nwonder how many miles I\\'ve fallen by this time?\\' she said aloud.\\n`I must be getting somewhere near the centre of the earth.  Let\\nme see:  that would be four thousand miles down, I think--\\' (for,\\nyou see, Alice had learnt several things of this sort in her\\nlessons in the schoolroom, and though this was not a very good\\nopportunity for showing off her knowledge, as there was no one to\\nlisten to her, still it was good practice to say it over) `--yes,\\nthat\\'s about the right distance--but then I wonder what Latitude\\nor Longitude I\\'ve got to?\\'  (Alice had no idea what Latitude was,\\nor Longitude either, but thought they were nice grand words to\\nsay.)\\n\\n  Presently she began again.  `I wonder if I shall fall right\\nthrough the earth!  How funny it\\'ll seem to come out among the\\npeople that walk with their heads downward!  The Antipathies, I\\nthink--\\' (she was rather glad there was no one listening, this\\ntime, as it didn\\'t sound at all the right word) `--but I shall\\nhave to ask them what the name of the country is, you know.\\nPlease, Ma\\'am, is this New Zealand or Australia?\\' (and she tried\\nto curtsey as she spoke--fancy curtseying as you\\'re falling\\nthrough the air!  Do you think you could manage it?)  `And what\\nan ignorant little girl she\\'ll think me for asking!  No, it\\'ll\\nnever do to ask:  perhaps I shall see it written up somewhere.\\'\\n\\n  Down, down, down.  There was nothing else to do, so Alice soon\\nbegan talking again.  `Dinah\\'ll miss me very much to-night, I\\nshould think!\\'  (Dinah was the cat.)  `I hope they\\'ll remember\\nher saucer of milk at tea-time.  Dinah my dear!  I wish you were\\ndown here with me!  There are no mice in the air, I\\'m afraid, but\\nyou might catch a bat, and that\\'s very like a mouse, you know.\\nBut do cats eat bats, I wonder?\\'  And here Alice began to get\\nrather sleepy, and went on saying to herself, in a dreamy sort of\\nway, `Do cats eat bats?  Do cats eat bats?\\' and sometimes, `Do\\nbats eat cats?\\' for, you see, as she couldn\\'t answer either\\nquestion, it didn\\'t much matter which way she put it.  She felt\\nthat she was dozing off, and had just begun to dream that she\\nwas walking hand in hand with Dinah, and saying to her very\\nearnestly, `Now, Dinah, tell me the truth:  did you ever eat a\\nbat?\\' when suddenly, thump! thump! down she came upon a heap of\\nsticks and dry leaves, and the fall was over.\\n\\n  Alice was not a bit hurt, and she jumped up on to her feet in a\\nmoment:  she looked up, but it was all dark overhead; before her\\nwas another long passage, and the White Rabbit was still in\\nsight, hurrying down it.  There was not a moment to be lost:\\naway went Alice like the wind, and was just in time to hear it\\nsay, as it turned a corner, `Oh my ears and whiskers, how late\\nit\\'s getting!\\'  She was close behind it when she turned the\\ncorner, but the Rabbit was no longer to be seen:  she found\\nherself in a long, low hall, which was lit up by a row of lamps\\nhanging from the roof.\\n\\n  There were doors all round the hall, but they were all locked;\\nand when Alice had been all the way down one side and up the\\nother, trying every door, she walked sadly down the middle,\\nwondering how she was ever to get out again.\\n\\n  Suddenly she came upon a little three-legged table, all made of\\nsolid glass; there was nothing on it except a tiny golden key,\\nand Alice\\'s first thought was that it might belong to one of the\\ndoors of the hall; but, alas! either the locks were too large, or\\nthe key was too small, but at any rate it would not open any of\\nthem.  However, on the second time round, she came upon a low\\ncurtain she had not noticed before, and behind it was a little\\ndoor about fifteen inches high:  she tried the little golden key\\nin the lock, and to her great delight it fitted!\\n\\n\\nAlice finding tiny door behind curtain\\n\\n  Alice opened the door and found that it led into a small\\npassage, not much larger than a rat-hole:  she knelt down and\\nlooked along the passage into the loveliest garden you ever saw.\\nHow she longed to get out of that dark hall, and wander about\\namong those beds of bright flowers and those cool fountains, but\\nshe could not even get her head though the doorway; `and even if\\nmy head would go through,\\' thought poor Alice, `it would be of\\nvery little use without my shoulders.  Oh, how I wish\\nI could shut up like a telescope!  I think I could, if I only\\nknow how to begin.\\'  For, you see, so many out-of-the-way things\\nhad happened lately, that Alice had begun to think that very few\\nthings indeed were really impossible.\\n\\n  There seemed to be no use in waiting by the little door, so she\\nwent back to the table, half hoping she might find another key on\\nit, or at any rate a book of rules for shutting people up like\\ntelescopes:  this time she found a little bottle on it, (`which\\ncertainly was not here before,\\' said Alice,) and round the neck\\nof the bottle was a paper label, with the words `DRINK ME\\'\\nbeautifully printed on it in large letters.\\n\\n\\nAlice taking \"Drink Me\" bottle\\n\\n  It was all very well to say `Drink me,\\' but the wise little\\nAlice was not going to do that in a hurry.  `No, I\\'ll look\\nfirst,\\' she said, `and see whether it\\'s marked \"poison\" or not\\';\\nfor she had read several nice little histories about children who\\nhad got burnt, and eaten up by wild beasts and other unpleasant\\nthings, all because they would not remember the simple rules\\ntheir friends had taught them:  such as, that a red-hot poker\\nwill burn you if you hold it too long; and that if you cut your\\nfinger very deeply with a knife, it usually bleeds; and she had\\nnever forgotten that, if you drink much from a bottle marked\\n`poison,\\' it is almost certain to disagree with you, sooner or\\nlater.\\n\\n  However, this bottle was not marked `poison,\\' so Alice ventured\\nto taste it, and finding it very nice, (it had, in fact, a sort\\nof mixed flavour of cherry-tart, custard, pine-apple, roast\\nturkey, toffee, and hot buttered toast,) she very soon finished\\nit off.\\n\\n     *       *       *       *       *       *       *\\n\\n         *       *       *       *       *       *\\n\\n     *       *       *       *       *       *       *\\n\\n  `What a curious feeling!\\' said Alice; `I must be shutting up\\nlike a telescope.\\'\\n\\n  And so it was indeed:  she was now only ten inches high, and\\nher face brightened up at the thought that she was now the right\\nsize for going through the little door into that lovely garden.\\nFirst, however, she waited for a few minutes to see if she was\\ngoing to shrink any further:  she felt a little nervous about\\nthis; `for it might end, you know,\\' said Alice to herself, `in my\\ngoing out altogether, like a candle.  I wonder what I should be\\nlike then?\\'  And she tried to fancy what the flame of a candle is\\nlike after the candle is blown out, for she could not remember\\never having seen such a thing.\\n\\n  After a while, finding that nothing more happened, she decided\\non going into the garden at once; but, alas for poor Alice!\\nwhen she got to the door, she found she had forgotten the\\nlittle golden key, and when she went back to the table for it,\\nshe found she could not possibly reach it:  she could see it\\nquite plainly through the glass, and she tried her best to climb\\nup one of the legs of the table, but it was too slippery;\\nand when she had tired herself out with trying,\\nthe poor little thing sat down and cried.\\n\\n  `Come, there\\'s no use in crying like that!\\' said Alice to\\nherself, rather sharply; `I advise you to leave off this minute!\\'\\nShe generally gave herself very good advice, (though she very\\nseldom followed it), and sometimes she scolded herself so\\nseverely as to bring tears into her eyes; and once she remembered\\ntrying to box her own ears for having cheated herself in a game\\nof croquet she was playing against herself, for this curious\\nchild was very fond of pretending to be two people.  `But it\\'s no\\nuse now,\\' thought poor Alice, `to pretend to be two people!  Why,\\nthere\\'s hardly enough of me left to make one respectable\\nperson!\\'\\n\\n  Soon her eye fell on a little glass box that was lying under\\nthe table:  she opened it, and found in it a very small cake, on\\nwhich the words `EAT ME\\' were beautifully marked in currants.\\n`Well, I\\'ll eat it,\\' said Alice, `and if it makes me grow larger,\\nI can reach the key; and if it makes me grow smaller, I can creep\\nunder the door; so either way I\\'ll get into the garden, and I\\ndon\\'t care which happens!\\'\\n\\n  She ate a little bit, and said anxiously to herself, `Which\\nway?  Which way?\\', holding her hand on the top of her head to\\nfeel which way it was growing, and she was quite surprised to\\nfind that she remained the same size:  to be sure, this generally\\nhappens when one eats cake, but Alice had got so much into the\\nway of expecting nothing but out-of-the-way things to happen,\\nthat it seemed quite dull and stupid for life to go on in the\\ncommon way.\\n\\n  So she set to work, and very soon finished off the cake.\\n\\n     *       *       *       *       *       *       *\\n\\n         *       *       *       *       *       *\\n\\n     *       *       *       *       *       *       *\\n\\nNext chapter:  The Pool of Tears\\n\\n\\n'"
      ]
     },
     "execution_count": 108,
     "metadata": {},
     "output_type": "execute_result"
    }
   ],
   "source": [
    "alice_book = soup.text\n",
    "alice_book"
   ]
  },
  {
   "cell_type": "code",
   "execution_count": 109,
   "metadata": {},
   "outputs": [
    {
     "name": "stdout",
     "output_type": "stream",
     "text": [
      "[\"\\n\\nAlice's\", 'Adventures', 'in', 'Wonderland', '--', 'Chapter', 'I\\n\\n\\nCHAPTER', 'I\\nDown', 'the', 'Rabbit-Hole\\n\\n', '', 'Alice', 'was', 'beginning', 'to', 'get', 'very', 'tired', 'of', 'sitting', 'by', 'her', 'sister\\non', 'the', 'bank,', 'and', 'of', 'having', 'nothing', 'to', 'do:', '', 'once', 'or', 'twice', 'she', 'had\\npeeped', 'into', 'the', 'book', 'her', 'sister', 'was', 'reading,', 'but', 'it', 'had', 'no\\npictures', 'or', 'conversations', 'in', 'it,', '`and', 'what', 'is', 'the', 'use', 'of', 'a', \"book,'\\nthought\", 'Alice', '`without', 'pictures', 'or', \"conversation?'\\n\\n\", '', 'So', 'she', 'was', 'considering', 'in', 'her', 'own', 'mind', '(as', 'well', 'as', 'she', 'could,\\nfor', 'the', 'hot', 'day', 'made', 'her', 'feel', 'very', 'sleepy', 'and', 'stupid),', 'whether\\nthe', 'pleasure', 'of', 'making', 'a', 'daisy-chain', 'would', 'be', 'worth', 'the', 'trouble\\nof', 'getting', 'up', 'and', 'picking', 'the', 'daisies,', 'when', 'suddenly', 'a', 'White\\nRabbit', 'with', 'pink', 'eyes', 'ran', 'close', 'by', 'her.\\n\\n', '', 'There', 'was', 'nothing', 'so', 'very', 'remarkable', 'in', 'that;', 'nor', 'did', 'Alice\\nthink', 'it', 'so', 'very', 'much', 'out', 'of', 'the', 'way', 'to', 'hear', 'the', 'Rabbit', 'say', 'to\\nitself,', '`Oh', 'dear!', '', 'Oh', 'dear!', '', 'I', 'shall', 'be', \"late!'\", '', '(when', 'she', 'thought\\nit', 'over', 'afterwards,', 'it', 'occurred', 'to', 'her', 'that', 'she', 'ought', 'to', 'have\\nwondered', 'at', 'this,', 'but', 'at', 'the', 'time', 'it', 'all', 'seemed', 'quite', 'natural);\\nbut', 'when', 'the', 'Rabbit', 'actually', 'took', 'a', 'watch', 'out', 'of', 'its', 'waistcoat-pocket,', 'and', 'looked', 'at', 'it,', 'and', 'then', 'hurried', 'on,', 'Alice', 'started', 'to\\nher', 'feet,', 'for', 'it', 'flashed', 'across', 'her', 'mind', 'that', 'she', 'had', 'never\\nbefore', 'seen', 'a', 'rabbit', 'with', 'either', 'a', 'waistcoat-pocket,', 'or', 'a', 'watch', 'to\\ntake', 'out', 'of', 'it,', 'and', 'burning', 'with', 'curiosity,', 'she', 'ran', 'across', 'the\\nfield', 'after', 'it,', 'and', 'fortunately', 'was', 'just', 'in', 'time', 'to', 'see', 'it', 'pop\\ndown', 'a', 'large', 'rabbit-hole', 'under', 'the', 'hedge.\\n\\n\\nWhite', 'Rabbit', 'checking', 'watch\\n\\n', '', 'In', 'another', 'moment', 'down', 'went', 'Alice', 'after', 'it,', 'never', 'once\\nconsidering', 'how', 'in', 'the', 'world', 'she', 'was', 'to', 'get', 'out', 'again.\\n\\n', '', 'The', 'rabbit-hole', 'went', 'straight', 'on', 'like', 'a', 'tunnel', 'for', 'some', 'way,\\nand', 'then', 'dipped', 'suddenly', 'down,', 'so', 'suddenly', 'that', 'Alice', 'had', 'not', 'a\\nmoment', 'to', 'think', 'about', 'stopping', 'herself', 'before', 'she', 'found', 'herself\\nfalling', 'down', 'a', 'very', 'deep', 'well.\\n\\n', '', 'Either', 'the', 'well', 'was', 'very', 'deep,', 'or', 'she', 'fell', 'very', 'slowly,', 'for', 'she\\nhad', 'plenty', 'of', 'time', 'as', 'she', 'went', 'down', 'to', 'look', 'about', 'her', 'and', 'to\\nwonder', 'what', 'was', 'going', 'to', 'happen', 'next.', '', 'First,', 'she', 'tried', 'to', 'look\\ndown', 'and', 'make', 'out', 'what', 'she', 'was', 'coming', 'to,', 'but', 'it', 'was', 'too', 'dark', 'to\\nsee', 'anything;', 'then', 'she', 'looked', 'at', 'the', 'sides', 'of', 'the', 'well,', 'and\\nnoticed', 'that', 'they', 'were', 'filled', 'with', 'cupboards', 'and', 'book-shelves;\\nhere', 'and', 'there', 'she', 'saw', 'maps', 'and', 'pictures', 'hung', 'upon', 'pegs.', '', 'She\\ntook', 'down', 'a', 'jar', 'from', 'one', 'of', 'the', 'shelves', 'as', 'she', 'passed;', 'it', 'was\\nlabelled', '`ORANGE', \"MARMALADE',\", 'but', 'to', 'her', 'great', 'disappointment', 'it\\nwas', 'empty:', '', 'she', 'did', 'not', 'like', 'to', 'drop', 'the', 'jar', 'for', 'fear', 'of', 'killing\\nsomebody,', 'so', 'managed', 'to', 'put', 'it', 'into', 'one', 'of', 'the', 'cupboards', 'as', 'she\\nfell', 'past', 'it.\\n\\n', '', \"`Well!'\", 'thought', 'Alice', 'to', 'herself,', '`after', 'such', 'a', 'fall', 'as', 'this,', 'I\\nshall', 'think', 'nothing', 'of', 'tumbling', 'down', 'stairs!', '', 'How', 'brave', \"they'll\\nall\", 'think', 'me', 'at', 'home!', '', 'Why,', 'I', \"wouldn't\", 'say', 'anything', 'about', 'it,\\neven', 'if', 'I', 'fell', 'off', 'the', 'top', 'of', 'the', \"house!'\", '(Which', 'was', 'very', 'likely\\ntrue.)\\n\\n', '', 'Down,', 'down,', 'down.', '', 'Would', 'the', 'fall', 'never', 'come', 'to', 'an', 'end!', '', '`I\\nwonder', 'how', 'many', 'miles', \"I've\", 'fallen', 'by', 'this', \"time?'\", 'she', 'said', 'aloud.\\n`I', 'must', 'be', 'getting', 'somewhere', 'near', 'the', 'centre', 'of', 'the', 'earth.', '', 'Let\\nme', 'see:', '', 'that', 'would', 'be', 'four', 'thousand', 'miles', 'down,', 'I', \"think--'\", '(for,\\nyou', 'see,', 'Alice', 'had', 'learnt', 'several', 'things', 'of', 'this', 'sort', 'in', 'her\\nlessons', 'in', 'the', 'schoolroom,', 'and', 'though', 'this', 'was', 'not', 'a', 'very', 'good\\nopportunity', 'for', 'showing', 'off', 'her', 'knowledge,', 'as', 'there', 'was', 'no', 'one', 'to\\nlisten', 'to', 'her,', 'still', 'it', 'was', 'good', 'practice', 'to', 'say', 'it', 'over)', \"`--yes,\\nthat's\", 'about', 'the', 'right', 'distance--but', 'then', 'I', 'wonder', 'what', 'Latitude\\nor', 'Longitude', \"I've\", 'got', \"to?'\", '', '(Alice', 'had', 'no', 'idea', 'what', 'Latitude', 'was,\\nor', 'Longitude', 'either,', 'but', 'thought', 'they', 'were', 'nice', 'grand', 'words', 'to\\nsay.)\\n\\n', '', 'Presently', 'she', 'began', 'again.', '', '`I', 'wonder', 'if', 'I', 'shall', 'fall', 'right\\nthrough', 'the', 'earth!', '', 'How', 'funny', \"it'll\", 'seem', 'to', 'come', 'out', 'among', 'the\\npeople', 'that', 'walk', 'with', 'their', 'heads', 'downward!', '', 'The', 'Antipathies,', \"I\\nthink--'\", '(she', 'was', 'rather', 'glad', 'there', 'was', 'no', 'one', 'listening,', 'this\\ntime,', 'as', 'it', \"didn't\", 'sound', 'at', 'all', 'the', 'right', 'word)', '`--but', 'I', 'shall\\nhave', 'to', 'ask', 'them', 'what', 'the', 'name', 'of', 'the', 'country', 'is,', 'you', 'know.\\nPlease,', \"Ma'am,\", 'is', 'this', 'New', 'Zealand', 'or', \"Australia?'\", '(and', 'she', 'tried\\nto', 'curtsey', 'as', 'she', 'spoke--fancy', 'curtseying', 'as', \"you're\", 'falling\\nthrough', 'the', 'air!', '', 'Do', 'you', 'think', 'you', 'could', 'manage', 'it?)', '', '`And', 'what\\nan', 'ignorant', 'little', 'girl', \"she'll\", 'think', 'me', 'for', 'asking!', '', 'No,', \"it'll\\nnever\", 'do', 'to', 'ask:', '', 'perhaps', 'I', 'shall', 'see', 'it', 'written', 'up', \"somewhere.'\\n\\n\", '', 'Down,', 'down,', 'down.', '', 'There', 'was', 'nothing', 'else', 'to', 'do,', 'so', 'Alice', 'soon\\nbegan', 'talking', 'again.', '', \"`Dinah'll\", 'miss', 'me', 'very', 'much', 'to-night,', 'I\\nshould', \"think!'\", '', '(Dinah', 'was', 'the', 'cat.)', '', '`I', 'hope', \"they'll\", 'remember\\nher', 'saucer', 'of', 'milk', 'at', 'tea-time.', '', 'Dinah', 'my', 'dear!', '', 'I', 'wish', 'you', 'were\\ndown', 'here', 'with', 'me!', '', 'There', 'are', 'no', 'mice', 'in', 'the', 'air,', \"I'm\", 'afraid,', 'but\\nyou', 'might', 'catch', 'a', 'bat,', 'and', \"that's\", 'very', 'like', 'a', 'mouse,', 'you', 'know.\\nBut', 'do', 'cats', 'eat', 'bats,', 'I', \"wonder?'\", '', 'And', 'here', 'Alice', 'began', 'to', 'get\\nrather', 'sleepy,', 'and', 'went', 'on', 'saying', 'to', 'herself,', 'in', 'a', 'dreamy', 'sort', 'of\\nway,', '`Do', 'cats', 'eat', 'bats?', '', 'Do', 'cats', 'eat', \"bats?'\", 'and', 'sometimes,', '`Do\\nbats', 'eat', \"cats?'\", 'for,', 'you', 'see,', 'as', 'she', \"couldn't\", 'answer', 'either\\nquestion,', 'it', \"didn't\", 'much', 'matter', 'which', 'way', 'she', 'put', 'it.', '', 'She', 'felt\\nthat', 'she', 'was', 'dozing', 'off,', 'and', 'had', 'just', 'begun', 'to', 'dream', 'that', 'she\\nwas', 'walking', 'hand', 'in', 'hand', 'with', 'Dinah,', 'and', 'saying', 'to', 'her', 'very\\nearnestly,', '`Now,', 'Dinah,', 'tell', 'me', 'the', 'truth:', '', 'did', 'you', 'ever', 'eat', \"a\\nbat?'\", 'when', 'suddenly,', 'thump!', 'thump!', 'down', 'she', 'came', 'upon', 'a', 'heap', 'of\\nsticks', 'and', 'dry', 'leaves,', 'and', 'the', 'fall', 'was', 'over.\\n\\n', '', 'Alice', 'was', 'not', 'a', 'bit', 'hurt,', 'and', 'she', 'jumped', 'up', 'on', 'to', 'her', 'feet', 'in', 'a\\nmoment:', '', 'she', 'looked', 'up,', 'but', 'it', 'was', 'all', 'dark', 'overhead;', 'before', 'her\\nwas', 'another', 'long', 'passage,', 'and', 'the', 'White', 'Rabbit', 'was', 'still', 'in\\nsight,', 'hurrying', 'down', 'it.', '', 'There', 'was', 'not', 'a', 'moment', 'to', 'be', 'lost:\\naway', 'went', 'Alice', 'like', 'the', 'wind,', 'and', 'was', 'just', 'in', 'time', 'to', 'hear', 'it\\nsay,', 'as', 'it', 'turned', 'a', 'corner,', '`Oh', 'my', 'ears', 'and', 'whiskers,', 'how', \"late\\nit's\", \"getting!'\", '', 'She', 'was', 'close', 'behind', 'it', 'when', 'she', 'turned', 'the\\ncorner,', 'but', 'the', 'Rabbit', 'was', 'no', 'longer', 'to', 'be', 'seen:', '', 'she', 'found\\nherself', 'in', 'a', 'long,', 'low', 'hall,', 'which', 'was', 'lit', 'up', 'by', 'a', 'row', 'of', 'lamps\\nhanging', 'from', 'the', 'roof.\\n\\n', '', 'There', 'were', 'doors', 'all', 'round', 'the', 'hall,', 'but', 'they', 'were', 'all', 'locked;\\nand', 'when', 'Alice', 'had', 'been', 'all', 'the', 'way', 'down', 'one', 'side', 'and', 'up', 'the\\nother,', 'trying', 'every', 'door,', 'she', 'walked', 'sadly', 'down', 'the', 'middle,\\nwondering', 'how', 'she', 'was', 'ever', 'to', 'get', 'out', 'again.\\n\\n', '', 'Suddenly', 'she', 'came', 'upon', 'a', 'little', 'three-legged', 'table,', 'all', 'made', 'of\\nsolid', 'glass;', 'there', 'was', 'nothing', 'on', 'it', 'except', 'a', 'tiny', 'golden', 'key,\\nand', \"Alice's\", 'first', 'thought', 'was', 'that', 'it', 'might', 'belong', 'to', 'one', 'of', 'the\\ndoors', 'of', 'the', 'hall;', 'but,', 'alas!', 'either', 'the', 'locks', 'were', 'too', 'large,', 'or\\nthe', 'key', 'was', 'too', 'small,', 'but', 'at', 'any', 'rate', 'it', 'would', 'not', 'open', 'any', 'of\\nthem.', '', 'However,', 'on', 'the', 'second', 'time', 'round,', 'she', 'came', 'upon', 'a', 'low\\ncurtain', 'she', 'had', 'not', 'noticed', 'before,', 'and', 'behind', 'it', 'was', 'a', 'little\\ndoor', 'about', 'fifteen', 'inches', 'high:', '', 'she', 'tried', 'the', 'little', 'golden', 'key\\nin', 'the', 'lock,', 'and', 'to', 'her', 'great', 'delight', 'it', 'fitted!\\n\\n\\nAlice', 'finding', 'tiny', 'door', 'behind', 'curtain\\n\\n', '', 'Alice', 'opened', 'the', 'door', 'and', 'found', 'that', 'it', 'led', 'into', 'a', 'small\\npassage,', 'not', 'much', 'larger', 'than', 'a', 'rat-hole:', '', 'she', 'knelt', 'down', 'and\\nlooked', 'along', 'the', 'passage', 'into', 'the', 'loveliest', 'garden', 'you', 'ever', 'saw.\\nHow', 'she', 'longed', 'to', 'get', 'out', 'of', 'that', 'dark', 'hall,', 'and', 'wander', 'about\\namong', 'those', 'beds', 'of', 'bright', 'flowers', 'and', 'those', 'cool', 'fountains,', 'but\\nshe', 'could', 'not', 'even', 'get', 'her', 'head', 'though', 'the', 'doorway;', '`and', 'even', 'if\\nmy', 'head', 'would', 'go', \"through,'\", 'thought', 'poor', 'Alice,', '`it', 'would', 'be', 'of\\nvery', 'little', 'use', 'without', 'my', 'shoulders.', '', 'Oh,', 'how', 'I', 'wish\\nI', 'could', 'shut', 'up', 'like', 'a', 'telescope!', '', 'I', 'think', 'I', 'could,', 'if', 'I', 'only\\nknow', 'how', 'to', \"begin.'\", '', 'For,', 'you', 'see,', 'so', 'many', 'out-of-the-way', 'things\\nhad', 'happened', 'lately,', 'that', 'Alice', 'had', 'begun', 'to', 'think', 'that', 'very', 'few\\nthings', 'indeed', 'were', 'really', 'impossible.\\n\\n', '', 'There', 'seemed', 'to', 'be', 'no', 'use', 'in', 'waiting', 'by', 'the', 'little', 'door,', 'so', 'she\\nwent', 'back', 'to', 'the', 'table,', 'half', 'hoping', 'she', 'might', 'find', 'another', 'key', 'on\\nit,', 'or', 'at', 'any', 'rate', 'a', 'book', 'of', 'rules', 'for', 'shutting', 'people', 'up', 'like\\ntelescopes:', '', 'this', 'time', 'she', 'found', 'a', 'little', 'bottle', 'on', 'it,', '(`which\\ncertainly', 'was', 'not', 'here', \"before,'\", 'said', 'Alice,)', 'and', 'round', 'the', 'neck\\nof', 'the', 'bottle', 'was', 'a', 'paper', 'label,', 'with', 'the', 'words', '`DRINK', \"ME'\\nbeautifully\", 'printed', 'on', 'it', 'in', 'large', 'letters.\\n\\n\\nAlice', 'taking', '\"Drink', 'Me\"', 'bottle\\n\\n', '', 'It', 'was', 'all', 'very', 'well', 'to', 'say', '`Drink', \"me,'\", 'but', 'the', 'wise', 'little\\nAlice', 'was', 'not', 'going', 'to', 'do', 'that', 'in', 'a', 'hurry.', '', '`No,', \"I'll\", \"look\\nfirst,'\", 'she', 'said,', '`and', 'see', 'whether', \"it's\", 'marked', '\"poison\"', 'or', \"not';\\nfor\", 'she', 'had', 'read', 'several', 'nice', 'little', 'histories', 'about', 'children', 'who\\nhad', 'got', 'burnt,', 'and', 'eaten', 'up', 'by', 'wild', 'beasts', 'and', 'other', 'unpleasant\\nthings,', 'all', 'because', 'they', 'would', 'not', 'remember', 'the', 'simple', 'rules\\ntheir', 'friends', 'had', 'taught', 'them:', '', 'such', 'as,', 'that', 'a', 'red-hot', 'poker\\nwill', 'burn', 'you', 'if', 'you', 'hold', 'it', 'too', 'long;', 'and', 'that', 'if', 'you', 'cut', 'your\\nfinger', 'very', 'deeply', 'with', 'a', 'knife,', 'it', 'usually', 'bleeds;', 'and', 'she', 'had\\nnever', 'forgotten', 'that,', 'if', 'you', 'drink', 'much', 'from', 'a', 'bottle', \"marked\\n`poison,'\", 'it', 'is', 'almost', 'certain', 'to', 'disagree', 'with', 'you,', 'sooner', 'or\\nlater.\\n\\n', '', 'However,', 'this', 'bottle', 'was', 'not', 'marked', \"`poison,'\", 'so', 'Alice', 'ventured\\nto', 'taste', 'it,', 'and', 'finding', 'it', 'very', 'nice,', '(it', 'had,', 'in', 'fact,', 'a', 'sort\\nof', 'mixed', 'flavour', 'of', 'cherry-tart,', 'custard,', 'pine-apple,', 'roast\\nturkey,', 'toffee,', 'and', 'hot', 'buttered', 'toast,)', 'she', 'very', 'soon', 'finished\\nit', 'off.\\n\\n', '', '', '', '', '*', '', '', '', '', '', '', '*', '', '', '', '', '', '', '*', '', '', '', '', '', '', '*', '', '', '', '', '', '', '*', '', '', '', '', '', '', '*', '', '', '', '', '', '', '*\\n\\n', '', '', '', '', '', '', '', '', '*', '', '', '', '', '', '', '*', '', '', '', '', '', '', '*', '', '', '', '', '', '', '*', '', '', '', '', '', '', '*', '', '', '', '', '', '', '*\\n\\n', '', '', '', '', '*', '', '', '', '', '', '', '*', '', '', '', '', '', '', '*', '', '', '', '', '', '', '*', '', '', '', '', '', '', '*', '', '', '', '', '', '', '*', '', '', '', '', '', '', '*\\n\\n', '', '`What', 'a', 'curious', \"feeling!'\", 'said', 'Alice;', '`I', 'must', 'be', 'shutting', 'up\\nlike', 'a', \"telescope.'\\n\\n\", '', 'And', 'so', 'it', 'was', 'indeed:', '', 'she', 'was', 'now', 'only', 'ten', 'inches', 'high,', 'and\\nher', 'face', 'brightened', 'up', 'at', 'the', 'thought', 'that', 'she', 'was', 'now', 'the', 'right\\nsize', 'for', 'going', 'through', 'the', 'little', 'door', 'into', 'that', 'lovely', 'garden.\\nFirst,', 'however,', 'she', 'waited', 'for', 'a', 'few', 'minutes', 'to', 'see', 'if', 'she', 'was\\ngoing', 'to', 'shrink', 'any', 'further:', '', 'she', 'felt', 'a', 'little', 'nervous', 'about\\nthis;', '`for', 'it', 'might', 'end,', 'you', \"know,'\", 'said', 'Alice', 'to', 'herself,', '`in', 'my\\ngoing', 'out', 'altogether,', 'like', 'a', 'candle.', '', 'I', 'wonder', 'what', 'I', 'should', 'be\\nlike', \"then?'\", '', 'And', 'she', 'tried', 'to', 'fancy', 'what', 'the', 'flame', 'of', 'a', 'candle', 'is\\nlike', 'after', 'the', 'candle', 'is', 'blown', 'out,', 'for', 'she', 'could', 'not', 'remember\\never', 'having', 'seen', 'such', 'a', 'thing.\\n\\n', '', 'After', 'a', 'while,', 'finding', 'that', 'nothing', 'more', 'happened,', 'she', 'decided\\non', 'going', 'into', 'the', 'garden', 'at', 'once;', 'but,', 'alas', 'for', 'poor', 'Alice!\\nwhen', 'she', 'got', 'to', 'the', 'door,', 'she', 'found', 'she', 'had', 'forgotten', 'the\\nlittle', 'golden', 'key,', 'and', 'when', 'she', 'went', 'back', 'to', 'the', 'table', 'for', 'it,\\nshe', 'found', 'she', 'could', 'not', 'possibly', 'reach', 'it:', '', 'she', 'could', 'see', 'it\\nquite', 'plainly', 'through', 'the', 'glass,', 'and', 'she', 'tried', 'her', 'best', 'to', 'climb\\nup', 'one', 'of', 'the', 'legs', 'of', 'the', 'table,', 'but', 'it', 'was', 'too', 'slippery;\\nand', 'when', 'she', 'had', 'tired', 'herself', 'out', 'with', 'trying,\\nthe', 'poor', 'little', 'thing', 'sat', 'down', 'and', 'cried.\\n\\n', '', '`Come,', \"there's\", 'no', 'use', 'in', 'crying', 'like', \"that!'\", 'said', 'Alice', 'to\\nherself,', 'rather', 'sharply;', '`I', 'advise', 'you', 'to', 'leave', 'off', 'this', \"minute!'\\nShe\", 'generally', 'gave', 'herself', 'very', 'good', 'advice,', '(though', 'she', 'very\\nseldom', 'followed', 'it),', 'and', 'sometimes', 'she', 'scolded', 'herself', 'so\\nseverely', 'as', 'to', 'bring', 'tears', 'into', 'her', 'eyes;', 'and', 'once', 'she', 'remembered\\ntrying', 'to', 'box', 'her', 'own', 'ears', 'for', 'having', 'cheated', 'herself', 'in', 'a', 'game\\nof', 'croquet', 'she', 'was', 'playing', 'against', 'herself,', 'for', 'this', 'curious\\nchild', 'was', 'very', 'fond', 'of', 'pretending', 'to', 'be', 'two', 'people.', '', '`But', \"it's\", 'no\\nuse', \"now,'\", 'thought', 'poor', 'Alice,', '`to', 'pretend', 'to', 'be', 'two', 'people!', '', \"Why,\\nthere's\", 'hardly', 'enough', 'of', 'me', 'left', 'to', 'make', 'one', \"respectable\\nperson!'\\n\\n\", '', 'Soon', 'her', 'eye', 'fell', 'on', 'a', 'little', 'glass', 'box', 'that', 'was', 'lying', 'under\\nthe', 'table:', '', 'she', 'opened', 'it,', 'and', 'found', 'in', 'it', 'a', 'very', 'small', 'cake,', 'on\\nwhich', 'the', 'words', '`EAT', \"ME'\", 'were', 'beautifully', 'marked', 'in', 'currants.\\n`Well,', \"I'll\", 'eat', \"it,'\", 'said', 'Alice,', '`and', 'if', 'it', 'makes', 'me', 'grow', 'larger,\\nI', 'can', 'reach', 'the', 'key;', 'and', 'if', 'it', 'makes', 'me', 'grow', 'smaller,', 'I', 'can', 'creep\\nunder', 'the', 'door;', 'so', 'either', 'way', \"I'll\", 'get', 'into', 'the', 'garden,', 'and', \"I\\ndon't\", 'care', 'which', \"happens!'\\n\\n\", '', 'She', 'ate', 'a', 'little', 'bit,', 'and', 'said', 'anxiously', 'to', 'herself,', '`Which\\nway?', '', 'Which', \"way?',\", 'holding', 'her', 'hand', 'on', 'the', 'top', 'of', 'her', 'head', 'to\\nfeel', 'which', 'way', 'it', 'was', 'growing,', 'and', 'she', 'was', 'quite', 'surprised', 'to\\nfind', 'that', 'she', 'remained', 'the', 'same', 'size:', '', 'to', 'be', 'sure,', 'this', 'generally\\nhappens', 'when', 'one', 'eats', 'cake,', 'but', 'Alice', 'had', 'got', 'so', 'much', 'into', 'the\\nway', 'of', 'expecting', 'nothing', 'but', 'out-of-the-way', 'things', 'to', 'happen,\\nthat', 'it', 'seemed', 'quite', 'dull', 'and', 'stupid', 'for', 'life', 'to', 'go', 'on', 'in', 'the\\ncommon', 'way.\\n\\n', '', 'So', 'she', 'set', 'to', 'work,', 'and', 'very', 'soon', 'finished', 'off', 'the', 'cake.\\n\\n', '', '', '', '', '*', '', '', '', '', '', '', '*', '', '', '', '', '', '', '*', '', '', '', '', '', '', '*', '', '', '', '', '', '', '*', '', '', '', '', '', '', '*', '', '', '', '', '', '', '*\\n\\n', '', '', '', '', '', '', '', '', '*', '', '', '', '', '', '', '*', '', '', '', '', '', '', '*', '', '', '', '', '', '', '*', '', '', '', '', '', '', '*', '', '', '', '', '', '', '*\\n\\n', '', '', '', '', '*', '', '', '', '', '', '', '*', '', '', '', '', '', '', '*', '', '', '', '', '', '', '*', '', '', '', '', '', '', '*', '', '', '', '', '', '', '*', '', '', '', '', '', '', '*\\n\\nNext', 'chapter:', '', 'The', 'Pool', 'of', 'Tears\\n\\n\\n']\n",
      "2357\n"
     ]
    }
   ],
   "source": [
    "words = alice_book.split(\" \")\n",
    "print(words)\n",
    "print(len(words))"
   ]
  },
  {
   "cell_type": "code",
   "execution_count": 110,
   "metadata": {},
   "outputs": [
    {
     "name": "stdout",
     "output_type": "stream",
     "text": [
      "18\n"
     ]
    }
   ],
   "source": [
    "# We can count how many times the word \"Alice\" appears\n",
    "\n",
    "print(words.count(\"Alice\"))"
   ]
  },
  {
   "cell_type": "markdown",
   "metadata": {},
   "source": [
    "## Checking your understanding\n",
    "\n",
    "By now you should have gone through arrays, for loops and other concepts, if you get stuck revist those notebooks.\n",
    "Write a new file where you only write the lines in the book containing the word *\"Alice\"*. The file should have only 18 lines."
   ]
  },
  {
   "cell_type": "code",
   "execution_count": 111,
   "metadata": {},
   "outputs": [],
   "source": [
    "def alices(words):\n",
    "    alice = []\n",
    "    for i, word in enumerate(words):\n",
    "        if word == \"Alice\":\n",
    "            text = words[i] + ' ' + ' '.join(words[i+1:i+5]).replace('\\n','')#[i, i + 2] \n",
    "            alice.append(text)\n",
    "    return alice"
   ]
  },
  {
   "cell_type": "code",
   "execution_count": 114,
   "metadata": {},
   "outputs": [
    {
     "data": {
      "text/plain": [
       "18"
      ]
     },
     "execution_count": 114,
     "metadata": {},
     "output_type": "execute_result"
    }
   ],
   "source": [
    "alice_text = alices(words)\n",
    "\n",
    "len(alice_text)"
   ]
  },
  {
   "cell_type": "code",
   "execution_count": 115,
   "metadata": {},
   "outputs": [
    {
     "data": {
      "text/plain": [
       "['Alice was beginning to get',\n",
       " \"Alice `without pictures or conversation?'\",\n",
       " 'Alice started toher feet, for',\n",
       " 'Alice after it, never onceconsidering',\n",
       " 'Alice had not amoment to',\n",
       " 'Alice to herself, `after such',\n",
       " 'Alice had learnt several things',\n",
       " 'Alice soonbegan talking again. ',\n",
       " 'Alice began to getrather sleepy,',\n",
       " 'Alice was not a bit',\n",
       " 'Alice like the wind, and',\n",
       " 'Alice had been all the',\n",
       " 'Alice opened the door and',\n",
       " 'Alice had begun to think',\n",
       " 'Alice venturedto taste it, and',\n",
       " 'Alice to herself, `in mygoing',\n",
       " 'Alice toherself, rather sharply; `I',\n",
       " 'Alice had got so much']"
      ]
     },
     "execution_count": 115,
     "metadata": {},
     "output_type": "execute_result"
    }
   ],
   "source": [
    "alice_text"
   ]
  },
  {
   "cell_type": "code",
   "execution_count": 123,
   "metadata": {},
   "outputs": [
    {
     "data": {
      "text/plain": [
       "['Alice was beginning to get',\n",
       " \"Alice `without pictures or conversation?'\",\n",
       " 'Alice started toher feet, for',\n",
       " 'Alice after it, never onceconsidering',\n",
       " 'Alice had not amoment to',\n",
       " 'Alice to herself, `after such',\n",
       " 'Alice had learnt several things',\n",
       " 'Alice soonbegan talking again. ',\n",
       " 'Alice began to getrather sleepy,',\n",
       " 'Alice was not a bit',\n",
       " 'Alice like the wind, and',\n",
       " 'Alice had been all the',\n",
       " 'Alice opened the door and',\n",
       " 'Alice had begun to think',\n",
       " 'Alice venturedto taste it, and',\n",
       " 'Alice to herself, `in mygoing',\n",
       " 'Alice toherself, rather sharply; `I',\n",
       " 'Alice had got so much']"
      ]
     },
     "execution_count": 123,
     "metadata": {},
     "output_type": "execute_result"
    }
   ],
   "source": [
    "alice_text"
   ]
  },
  {
   "cell_type": "code",
   "execution_count": 131,
   "metadata": {},
   "outputs": [],
   "source": [
    "file = open(\"Alice.txt\", \"w\") #giving name to file\n",
    "#str_alice = repr(alice_text)\n",
    "\n",
    "file.write(str(alice_text)) \n",
    "\"\"\"define which variable store in data that we want to save into \"Alice.txt\",\n",
    "we have to change the variable name into \"string\" using str()\"\"\"\n",
    "\n",
    "file.close() #close the file"
   ]
  },
  {
   "cell_type": "code",
   "execution_count": 132,
   "metadata": {},
   "outputs": [],
   "source": [
    "import os"
   ]
  },
  {
   "cell_type": "code",
   "execution_count": 133,
   "metadata": {},
   "outputs": [
    {
     "data": {
      "text/plain": [
       "['4_Python_Functions.ipynb',\n",
       " '5_Intro_to_OOP.ipynb',\n",
       " '3_Python_Lists_Sets_Dictionaries.ipynb',\n",
       " '1_Python_Variables_Types.ipynb',\n",
       " '6_Read_Write_Files.ipynb',\n",
       " 'Alice.txt',\n",
       " '.ipynb_checkpoints',\n",
       " '2_Python_If_Else_Loops.ipynb']"
      ]
     },
     "execution_count": 133,
     "metadata": {},
     "output_type": "execute_result"
    }
   ],
   "source": [
    "os.listdir() #see in directory, Alice.txt is there"
   ]
  },
  {
   "cell_type": "markdown",
   "metadata": {},
   "source": [
    "# Summary\n",
    "\n",
    "Congratulations! You should now have a basic understanding of reading and writing from files and working with the data your read."
   ]
  }
 ],
 "metadata": {
  "kernelspec": {
   "display_name": "Python 3",
   "language": "python",
   "name": "python3"
  },
  "language_info": {
   "codemirror_mode": {
    "name": "ipython",
    "version": 3
   },
   "file_extension": ".py",
   "mimetype": "text/x-python",
   "name": "python",
   "nbconvert_exporter": "python",
   "pygments_lexer": "ipython3",
   "version": "3.7.9"
  }
 },
 "nbformat": 4,
 "nbformat_minor": 4
}
